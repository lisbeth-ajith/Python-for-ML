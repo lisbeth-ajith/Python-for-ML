{
 "cells": [
  {
   "cell_type": "markdown",
   "metadata": {},
   "source": [
    "# IMPORT LIBRARIES"
   ]
  },
  {
   "cell_type": "code",
   "execution_count": 6,
   "metadata": {
    "id": "U3aRP_Yf-oi9"
   },
   "outputs": [],
   "source": [
    "# IMPORTS\n",
    "import pandas as pd\n",
    "import numpy as np\n",
    "from sklearn.tree import DecisionTreeClassifier\n",
    "from sklearn.neighbors import KNeighborsClassifier\n",
    "from sklearn.linear_model import LogisticRegression\n",
    "from sklearn.model_selection import train_test_split\n",
    "import statistics as st\n",
    "import warnings\n",
    "warnings.filterwarnings('ignore')"
   ]
  },
  {
   "cell_type": "markdown",
   "metadata": {},
   "source": [
    "# SPLITTING THE DATASET"
   ]
  },
  {
   "cell_type": "code",
   "execution_count": 7,
   "metadata": {
    "id": "Wi0Ya4KK_LY8"
   },
   "outputs": [],
   "source": [
    "# SPLITTING THE DATASET\n",
    "df = pd.read_csv('dataset.csv')\n",
    "x = df.drop('target', axis = 1)\n",
    "y = df['target']\n",
    "x_train, x_test, y_train, y_test = train_test_split(x, y, test_size=0.2, random_state=0)"
   ]
  },
  {
   "cell_type": "markdown",
   "metadata": {},
   "source": [
    "# MODELS CREATION"
   ]
  },
  {
   "cell_type": "code",
   "execution_count": 8,
   "metadata": {
    "id": "6lPMAx19_OlE"
   },
   "outputs": [],
   "source": [
    "# MODELS CREATION\n",
    "model1 = DecisionTreeClassifier()\n",
    "model2 = KNeighborsClassifier()\n",
    "model3= LogisticRegression()\n",
    "\n",
    "model1.fit(x_train,y_train)\n",
    "model2.fit(x_train,y_train)\n",
    "model3.fit(x_train,y_train)\n",
    "\n",
    "pred1=model1.predict_proba(x_test)\n",
    "pred2=model2.predict_proba(x_test)\n",
    "pred3=model3.predict_proba(x_test)\n",
    "\n",
    "finalpred=(pred1+pred2+pred3)/3"
   ]
  },
  {
   "cell_type": "code",
   "execution_count": 5,
   "metadata": {
    "id": "42Svfb3Z_nzm"
   },
   "outputs": [
    {
     "name": "stdout",
     "output_type": "stream",
     "text": [
      "Defaulting to user installation because normal site-packages is not writeable\n",
      "Collecting pyarrow\n",
      "  Downloading pyarrow-15.0.0-cp39-cp39-manylinux_2_28_x86_64.whl (38.3 MB)\n",
      "\u001b[2K     \u001b[90m━━━━━━━━━━━━━━━━━━━━━━━━━━━━━━━━━━━━━━━━\u001b[0m \u001b[32m38.3/38.3 MB\u001b[0m \u001b[31m3.1 MB/s\u001b[0m eta \u001b[36m0:00:00\u001b[0m00:01\u001b[0m00:01\u001b[0m\n",
      "\u001b[?25hRequirement already satisfied: numpy<2,>=1.16.6 in /glob/development-tools/versions/oneapi/2023.2.0.1/oneapi/intelpython/python3.9/lib/python3.9/site-packages (from pyarrow) (1.24.3)\n",
      "Installing collected packages: pyarrow\n",
      "Successfully installed pyarrow-15.0.0\n",
      "Note: you may need to restart the kernel to use updated packages.\n"
     ]
    }
   ],
   "source": [
    "pip install pyarrow"
   ]
  },
  {
   "cell_type": "code",
   "execution_count": 9,
   "metadata": {},
   "outputs": [
    {
     "data": {
      "text/plain": [
       "array([[0.91798473, 0.08201527],\n",
       "       [0.32613919, 0.67386081],\n",
       "       [0.52201904, 0.47798096],\n",
       "       [0.92563815, 0.07436185],\n",
       "       [0.76047454, 0.23952546],\n",
       "       [0.65635292, 0.34364708],\n",
       "       [0.85152993, 0.14847007],\n",
       "       [0.89364691, 0.10635309],\n",
       "       [0.93159424, 0.06840576],\n",
       "       [0.93194756, 0.06805244],\n",
       "       [0.53656333, 0.46343667],\n",
       "       [0.09135494, 0.90864506],\n",
       "       [0.98880828, 0.01119172],\n",
       "       [0.1146468 , 0.8853532 ],\n",
       "       [0.0807848 , 0.9192152 ],\n",
       "       [0.50546088, 0.49453912],\n",
       "       [0.91040305, 0.08959695],\n",
       "       [0.0816801 , 0.9183199 ],\n",
       "       [0.93107683, 0.06892317],\n",
       "       [0.11363617, 0.88636383],\n",
       "       [0.12562642, 0.87437358],\n",
       "       [0.70918363, 0.29081637],\n",
       "       [0.90960433, 0.09039567],\n",
       "       [0.76899009, 0.23100991],\n",
       "       [0.64867615, 0.35132385],\n",
       "       [0.4487068 , 0.5512932 ],\n",
       "       [0.60112346, 0.39887654],\n",
       "       [0.76265973, 0.23734027],\n",
       "       [0.07609962, 0.92390038],\n",
       "       [0.31232903, 0.68767097],\n",
       "       [0.31809954, 0.68190046],\n",
       "       [0.86157842, 0.13842158],\n",
       "       [0.14722661, 0.85277339],\n",
       "       [0.34427183, 0.65572817],\n",
       "       [0.09468083, 0.90531917],\n",
       "       [0.17959784, 0.82040216],\n",
       "       [0.98577236, 0.01422764],\n",
       "       [0.1877775 , 0.8122225 ],\n",
       "       [0.83838354, 0.16161646],\n",
       "       [0.68399294, 0.31600706],\n",
       "       [0.34400448, 0.65599552],\n",
       "       [0.47277103, 0.52722897],\n",
       "       [0.2642737 , 0.7357263 ],\n",
       "       [0.91400693, 0.08599307],\n",
       "       [0.78212434, 0.21787566],\n",
       "       [0.55627667, 0.44372333],\n",
       "       [0.06866655, 0.93133345],\n",
       "       [0.1193643 , 0.8806357 ],\n",
       "       [0.71740676, 0.28259324],\n",
       "       [0.12869041, 0.87130959],\n",
       "       [0.1087594 , 0.8912406 ],\n",
       "       [0.34365241, 0.65634759],\n",
       "       [0.07856167, 0.92143833],\n",
       "       [0.32414337, 0.67585663],\n",
       "       [0.06893275, 0.93106725],\n",
       "       [0.83642118, 0.16357882],\n",
       "       [0.22294945, 0.77705055],\n",
       "       [0.09216863, 0.90783137],\n",
       "       [0.26601475, 0.73398525],\n",
       "       [0.08478166, 0.91521834],\n",
       "       [0.31157715, 0.68842285]])"
      ]
     },
     "execution_count": 9,
     "metadata": {},
     "output_type": "execute_result"
    }
   ],
   "source": [
    "finalpred"
   ]
  },
  {
   "cell_type": "code",
   "execution_count": null,
   "metadata": {},
   "outputs": [],
   "source": [
    "yu"
   ]
  },
  {
   "cell_type": "code",
   "execution_count": null,
   "metadata": {},
   "outputs": [],
   "source": []
  }
 ],
 "metadata": {
  "colab": {
   "provenance": []
  },
  "kernelspec": {
   "display_name": "Python 3 (Intel® oneAPI 2023.2)",
   "language": "python",
   "name": "c009-intel_distribution_of_python_3_oneapi-beta05-python"
  },
  "language_info": {
   "codemirror_mode": {
    "name": "ipython",
    "version": 3
   },
   "file_extension": ".py",
   "mimetype": "text/x-python",
   "name": "python",
   "nbconvert_exporter": "python",
   "pygments_lexer": "ipython3",
   "version": "3.9.16"
  }
 },
 "nbformat": 4,
 "nbformat_minor": 4
}
